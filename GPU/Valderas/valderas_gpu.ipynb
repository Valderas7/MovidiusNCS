{
  "nbformat": 4,
  "nbformat_minor": 0,
  "metadata": {
    "colab": {
      "name": "valderas_gpu.ipynb",
      "provenance": [],
      "collapsed_sections": []
    },
    "kernelspec": {
      "name": "python3",
      "display_name": "Python 3"
    },
    "accelerator": "GPU"
  },
  "cells": [
    {
      "cell_type": "code",
      "metadata": {
        "id": "dcH8pzx89CYu",
        "colab_type": "code",
        "outputId": "5c52d9ad-7529-4b27-cd7d-61804ee43ef3",
        "colab": {
          "base_uri": "https://localhost:8080/",
          "height": 34
        }
      },
      "source": [
        "%tensorflow_version 2.x\n",
        "import tensorflow as tf\n",
        "device_name = tf.test.gpu_device_name()\n",
        "if device_name != '/device:GPU:0':\n",
        "  raise SystemError('GPU device not found')\n",
        "print('Found GPU at: {}'.format(device_name))"
      ],
      "execution_count": 1,
      "outputs": [
        {
          "output_type": "stream",
          "text": [
            "Found GPU at: /device:GPU:0\n"
          ],
          "name": "stdout"
        }
      ]
    },
    {
      "cell_type": "code",
      "metadata": {
        "id": "1R0lyQ4hHP0V",
        "colab_type": "code",
        "outputId": "d2b74188-1be0-499f-d7d6-edcd449d6ff3",
        "colab": {
          "base_uri": "https://localhost:8080/",
          "height": 1000
        }
      },
      "source": [
        "#!/usr/bin/env python\n",
        "# coding: utf-8\n",
        "# Se importan librerías:\n",
        "import os # Listado archivos\n",
        "import cv2 # OpenCV\n",
        "import numpy as np # Manipular arrays\n",
        "import time # Medir el tiempo de ejecución\n",
        "\n",
        "# Se carga el modelo:\n",
        "red = cv2.dnn.readNetFromTensorflow('/content/drive/My Drive/T-F-M/Valderas/modelos/modelo.pb', '/content/drive/My Drive/T-F-M/Valderas/modelos/modelo.pbtxt') \n",
        "\n",
        "# Se especifica el dispositivo objetivo (CPU):\n",
        "red.setPreferableBackend(cv2.dnn.DNN_BACKEND_OPENCV)\n",
        "red.setPreferableTarget(cv2.dnn.DNN_TARGET_CPU)\n",
        "\n",
        "# Se especifica el directorio principal y se crea un array para recopilar las imágenes:\n",
        "directorio = \"/content/drive/My Drive/T-F-M/Valderas/test\"\n",
        "imagenes = []\n",
        "\n",
        "# Se imprime la lista de imágenes, se leen cada una de ellas y se van añadiendo a la lista:\n",
        "for dirPath, dirNames, fileNames in os.walk(directorio): # Genera los nombres de los archivos\n",
        "    print('Leyendo archivos...') \n",
        "    for f in fileNames:\n",
        "        img = cv2.imread(os.path.join(dirPath, f)) # Se lee una imagen dentro del directorio establecido\n",
        "        img = img.astype('float32') / 255 # Transformar imagen a formato float32 y se escalan los píxeles con valores entre (0-1)\n",
        "        imagenes.append(img) # La imagen se añade al array           \n",
        "print('[Info] Todas las imágenes han sido leídas\\n')\n",
        "\n",
        "# Para todas las imágenes del array:\n",
        "for i in range(len(imagenes)):\n",
        "    # Se prepara el objeto binario grande (la imagen) como entrada de la red neuronal: \n",
        "    blob = cv2.dnn.blobFromImage(imagenes[i], size=(180, 180), ddepth=cv2.CV_32F) # Se crea BLOB desde la imagen\n",
        "    red.setInput(blob) # Se establece el BLOB creado como entrada de la red neuronal\n",
        "\n",
        "    # Se obtiene la clasificación de salida y se mide el tiempo de ejecución:\n",
        "    inicio = time.time() # Inicio del contador para cada BLOB\n",
        "    out = red.forward() # Se calcula la salida de la red neuronal\n",
        "    fin = time.time() # Final del contador para cada BLOB\n",
        "    print(\"[Info] El tiempo de ejecución fue de {:.3} segundos\".format(fin - inicio)) # 3 cifras significativas\n",
        "    \n",
        "    # Se imprime por pantalla salida y la probabilidad. La salida de la red da un valor dentro del intervalo (0-1).\n",
        "    if out[0] > 0.5: # Cuanto más cerca del '1', más probable que la imagen sea de un perro.\n",
        "      print('La imagen es de un: Perro (Probabilidad: {:.4}%)\\n'.format(out[0][np.argmax(out)]*100))\n",
        "    else: # Cuanto mas cerca del '0', más probable que la imagen sea de un gato.\n",
        "      print('La imagen es de un: Gato (Probabilidad: {:.4}%)\\n'.format(100-out[0][np.argmax(out)]*100))"
      ],
      "execution_count": 2,
      "outputs": [
        {
          "output_type": "stream",
          "text": [
            "Leyendo archivos...\n",
            "[Info] Todas las imágenes han sido leídas\n",
            "\n",
            "[Info] El tiempo de ejecución fue de 0.297 segundos\n",
            "La imagen es de un: Gato (Probabilidad: 97.42%)\n",
            "\n",
            "[Info] El tiempo de ejecución fue de 0.0207 segundos\n",
            "La imagen es de un: Perro (Probabilidad: 99.95%)\n",
            "\n",
            "[Info] El tiempo de ejecución fue de 0.0204 segundos\n",
            "La imagen es de un: Gato (Probabilidad: 99.54%)\n",
            "\n",
            "[Info] El tiempo de ejecución fue de 0.0203 segundos\n",
            "La imagen es de un: Gato (Probabilidad: 99.54%)\n",
            "\n",
            "[Info] El tiempo de ejecución fue de 0.0201 segundos\n",
            "La imagen es de un: Gato (Probabilidad: 97.42%)\n",
            "\n",
            "[Info] El tiempo de ejecución fue de 0.0198 segundos\n",
            "La imagen es de un: Gato (Probabilidad: 99.81%)\n",
            "\n",
            "[Info] El tiempo de ejecución fue de 0.02 segundos\n",
            "La imagen es de un: Gato (Probabilidad: 99.81%)\n",
            "\n",
            "[Info] El tiempo de ejecución fue de 0.0199 segundos\n",
            "La imagen es de un: Perro (Probabilidad: 98.11%)\n",
            "\n",
            "[Info] El tiempo de ejecución fue de 0.0199 segundos\n",
            "La imagen es de un: Gato (Probabilidad: 99.81%)\n",
            "\n",
            "[Info] El tiempo de ejecución fue de 0.0257 segundos\n",
            "La imagen es de un: Gato (Probabilidad: 99.97%)\n",
            "\n",
            "[Info] El tiempo de ejecución fue de 0.0246 segundos\n",
            "La imagen es de un: Gato (Probabilidad: 99.81%)\n",
            "\n",
            "[Info] El tiempo de ejecución fue de 0.0213 segundos\n",
            "La imagen es de un: Gato (Probabilidad: 99.81%)\n",
            "\n",
            "[Info] El tiempo de ejecución fue de 0.0201 segundos\n",
            "La imagen es de un: Perro (Probabilidad: 98.11%)\n",
            "\n",
            "[Info] El tiempo de ejecución fue de 0.0256 segundos\n",
            "La imagen es de un: Gato (Probabilidad: 99.81%)\n",
            "\n",
            "[Info] El tiempo de ejecución fue de 0.0259 segundos\n",
            "La imagen es de un: Gato (Probabilidad: 99.97%)\n",
            "\n",
            "[Info] El tiempo de ejecución fue de 0.02 segundos\n",
            "La imagen es de un: Perro (Probabilidad: 99.95%)\n",
            "\n",
            "[Info] El tiempo de ejecución fue de 0.0207 segundos\n",
            "La imagen es de un: Gato (Probabilidad: 99.81%)\n",
            "\n",
            "[Info] El tiempo de ejecución fue de 0.0212 segundos\n",
            "La imagen es de un: Perro (Probabilidad: 98.11%)\n",
            "\n",
            "[Info] El tiempo de ejecución fue de 0.0228 segundos\n",
            "La imagen es de un: Gato (Probabilidad: 99.97%)\n",
            "\n",
            "[Info] El tiempo de ejecución fue de 0.0215 segundos\n",
            "La imagen es de un: Gato (Probabilidad: 99.97%)\n",
            "\n",
            "[Info] El tiempo de ejecución fue de 0.0206 segundos\n",
            "La imagen es de un: Gato (Probabilidad: 99.97%)\n",
            "\n",
            "[Info] El tiempo de ejecución fue de 0.0241 segundos\n",
            "La imagen es de un: Gato (Probabilidad: 99.54%)\n",
            "\n",
            "[Info] El tiempo de ejecución fue de 0.021 segundos\n",
            "La imagen es de un: Gato (Probabilidad: 99.81%)\n",
            "\n",
            "[Info] El tiempo de ejecución fue de 0.0207 segundos\n",
            "La imagen es de un: Gato (Probabilidad: 97.42%)\n",
            "\n",
            "[Info] El tiempo de ejecución fue de 0.0202 segundos\n",
            "La imagen es de un: Perro (Probabilidad: 99.95%)\n",
            "\n",
            "[Info] El tiempo de ejecución fue de 0.0207 segundos\n",
            "La imagen es de un: Gato (Probabilidad: 99.81%)\n",
            "\n",
            "[Info] El tiempo de ejecución fue de 0.0203 segundos\n",
            "La imagen es de un: Perro (Probabilidad: 98.11%)\n",
            "\n",
            "[Info] El tiempo de ejecución fue de 0.0199 segundos\n",
            "La imagen es de un: Perro (Probabilidad: 98.11%)\n",
            "\n",
            "[Info] El tiempo de ejecución fue de 0.023 segundos\n",
            "La imagen es de un: Gato (Probabilidad: 97.42%)\n",
            "\n",
            "[Info] El tiempo de ejecución fue de 0.0206 segundos\n",
            "La imagen es de un: Gato (Probabilidad: 99.54%)\n",
            "\n"
          ],
          "name": "stdout"
        }
      ]
    },
    {
      "cell_type": "code",
      "metadata": {
        "id": "29FeqfLF_Aum",
        "colab_type": "code",
        "colab": {}
      },
      "source": [
        ""
      ],
      "execution_count": 0,
      "outputs": []
    }
  ]
}